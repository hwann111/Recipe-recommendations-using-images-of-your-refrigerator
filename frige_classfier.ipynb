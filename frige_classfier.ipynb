{
  "nbformat": 4,
  "nbformat_minor": 0,
  "metadata": {
    "colab": {
      "provenance": [],
      "gpuType": "V28",
      "authorship_tag": "ABX9TyOUgdFfsWNPG67zZVLnX2oG",
      "include_colab_link": true
    },
    "kernelspec": {
      "name": "python3",
      "display_name": "Python 3"
    },
    "language_info": {
      "name": "python"
    },
    "accelerator": "TPU"
  },
  "cells": [
    {
      "cell_type": "markdown",
      "metadata": {
        "id": "view-in-github",
        "colab_type": "text"
      },
      "source": [
        "<a href=\"https://colab.research.google.com/github/hwann111/project2023_1/blob/main/%08frige_classfier.ipynb\" target=\"_parent\"><img src=\"https://colab.research.google.com/assets/colab-badge.svg\" alt=\"Open In Colab\"/></a>"
      ]
    },
    {
      "cell_type": "code",
      "execution_count": null,
      "metadata": {
        "id": "XLBSI7bat9y6"
      },
      "outputs": [],
      "source": [
        "from keras.models import load_model\n",
        "\n",
        "model_1 = load_model('./fruit.keras')\n",
        "model_2 = load_model('./vegetable.keras')\n"
      ]
    },
    {
      "cell_type": "code",
      "source": [
        "from PIL import Image\n",
        "from PIL import ImageEnhance"
      ],
      "metadata": {
        "id": "nkekvqV6T8T7"
      },
      "execution_count": null,
      "outputs": []
    },
    {
      "cell_type": "code",
      "source": [
        "import matplotlib.pyplot as plt\n",
        "from tensorflow.keras.preprocessing import image\n"
      ],
      "metadata": {
        "id": "VMvwkDFCUKhE"
      },
      "execution_count": null,
      "outputs": []
    },
    {
      "cell_type": "code",
      "source": [
        "from keras.preprocessing import image\n",
        "import numpy as np\n",
        "\n",
        "def preprocess_image(img_path):\n",
        "    img = image.load_img(img_path, target_size=(256, 256))\n",
        "    img_array = image.img_to_array(img)\n",
        "    img_array = np.expand_dims(img_array, axis=0)\n",
        "    img_array /= 255.0  # 정규화\n",
        "    return img_array\n"
      ],
      "metadata": {
        "id": "FWiTA3doxYh3"
      },
      "execution_count": null,
      "outputs": []
    },
    {
      "cell_type": "code",
      "source": [
        "def Preprocess(img_path):\n",
        "\n",
        "        image = img_path\n",
        "        image_duplicate=image.copy()\n",
        "        plt.figure(figsize=(10,10))\n",
        "\n",
        "        image1=ImageEnhance.Color(image_duplicate).enhance(1.35)\n",
        "        image1=ImageEnhance.Contrast(image1).enhance(1.45)\n",
        "        image1=ImageEnhance.Sharpness(image1).enhance(2.5)"
      ],
      "metadata": {
        "id": "HgNLf_LSS9dy"
      },
      "execution_count": null,
      "outputs": []
    },
    {
      "cell_type": "code",
      "source": [
        "# 레이블 정의\n",
        "labels =  {'Bean': 0,\n",
        " 'Bitter_Gourd': 1,\n",
        " 'Bottle_Gourd': 2,\n",
        " 'Brinjal': 3,\n",
        " 'Broccoli': 4,\n",
        " 'Cabbage': 5,\n",
        " 'Capsicum': 6,\n",
        " 'Carrot': 7,\n",
        " 'Cauliflower': 8,\n",
        " 'Cucumber': 9,\n",
        " 'Papaya': 10,\n",
        " 'Potato': 11,\n",
        " 'Pumpkin': 12,\n",
        " 'Radish': 13,\n",
        " 'Tomato': 14,\n",
        "\n",
        "\n",
        "#  'spinach':15,\n",
        "#  'watermelon':16,\n",
        "#            'potato': 17, 'ginger':18, 'cauliflower':19, 'garlic':20,\n",
        "#  'sweetcorn':21, 'pineapple':22, 'carrot':23, 'banana':24, 'pear':25, 'pomegranate':26, 'turnip':27,\n",
        "#  'corn':28, 'raddish':29, 'chilli pepper':30, 'apple':31, 'peas':32, 'orange':33, 'onion':34,\n",
        "#  'beetroot':35, 'capsicum':36, 'cabbage':37, 'kiwi':38, 'lemon':39, 'jalepeno':40, 'soy beans':41,\n",
        "#  'mango':42, 'eggplant':43, 'tomato':44, 'grapes':45, 'paprika':46, 'lettuce':47, 'bell pepper':48,\n",
        "#  'sweetpotato':49, 'cucumber':50\n",
        "           }"
      ],
      "metadata": {
        "id": "_PZ0bu2SVUnl"
      },
      "execution_count": null,
      "outputs": []
    },
    {
      "cell_type": "code",
      "source": [
        "index = 4\n",
        "for label, idx in labels.items():\n",
        "    if idx == index:\n",
        "        print(label)\n",
        "        break"
      ],
      "metadata": {
        "colab": {
          "base_uri": "https://localhost:8080/"
        },
        "id": "bqNQAQfMfQm1",
        "outputId": "839a2856-32ab-4980-cc05-3c2b6135b0d2"
      },
      "execution_count": null,
      "outputs": [
        {
          "output_type": "stream",
          "name": "stdout",
          "text": [
            "Broccoli\n"
          ]
        }
      ]
    },
    {
      "cell_type": "code",
      "source": [
        "def predict_image(filename,model):\n",
        "    img_ = image.load_img(filename, target_size=(224, 224))\n",
        "    img_array = image.img_to_array(img_)\n",
        "    img_processed = np.expand_dims(img_array, axis=0)\n",
        "    img_processed /= 255.\n",
        "\n",
        "    prediction = model.predict(img_processed)\n",
        "    index = np.argmax(prediction)\n",
        "    print(index)\n",
        "    # plt.title(\"Prediction - {}\".format(labels[index]))\n",
        "    # plt.imshow(img_array)"
      ],
      "metadata": {
        "id": "Cd4DNCMgVKXT"
      },
      "execution_count": null,
      "outputs": []
    },
    {
      "cell_type": "code",
      "source": [
        "def predict_image(filename, model, top_n=3):\n",
        "\n",
        "    # 이미지를 불러오고 전처리\n",
        "    img_ = image.load_img(filename, target_size=(224, 224))\n",
        "    img_array = image.img_to_array(img_)\n",
        "    img_processed = np.expand_dims(img_array, axis=0)\n",
        "    img_processed /= 255.\n",
        "\n",
        "    # 모델을 사용하여 예측\n",
        "    prediction = model.predict(img_processed)\n",
        "\n",
        "    # 상위 n개의 예측 값과 해당 인덱스 찾기\n",
        "    top_indices = np.argsort(prediction[0])[-top_n:][::-1]\n",
        "    top_values = prediction[0][top_indices]\n",
        "    result = []\n",
        "    # 상위 n개의 예측 값과 인덱스 출력\n",
        "    for i in range(top_n):\n",
        "        print(f\"Index: {top_indices[i]}, Value: {top_values[i]}\")\n",
        "\n",
        "        for label, idx in labels.items():\n",
        "            if idx == top_indices[i]:\n",
        "                print(label)\n",
        "                result.append(label)\n",
        "                break\n",
        "    return result\n",
        "# 함수 사용 예시\n",
        "# predict_image('image_path.jpg', model, 5) # 상위 5개의 예측 값을 출력\n"
      ],
      "metadata": {
        "id": "9SVDaz7xbPbM"
      },
      "execution_count": null,
      "outputs": []
    },
    {
      "cell_type": "code",
      "source": [
        "result_vegetable=predict_image('./frige.png', model_2, 5) # 상위 5개의 예측 값을 출력"
      ],
      "metadata": {
        "colab": {
          "base_uri": "https://localhost:8080/"
        },
        "id": "ugxrhSSMbRID",
        "outputId": "af705341-bcd0-4e20-abe8-2e24663c2085"
      },
      "execution_count": 18,
      "outputs": [
        {
          "output_type": "stream",
          "name": "stdout",
          "text": [
            "1/1 [==============================] - 1s 1s/step\n",
            "Index: 14, Value: 0.4376803934574127\n",
            "Tomato\n",
            "Index: 13, Value: 0.3843204379081726\n",
            "Radish\n",
            "Index: 7, Value: 0.0908963605761528\n",
            "Carrot\n",
            "Index: 1, Value: 0.06125714257359505\n",
            "Bitter_Gourd\n",
            "Index: 8, Value: 0.012145335786044598\n",
            "Cauliflower\n"
          ]
        }
      ]
    },
    {
      "cell_type": "code",
      "source": [],
      "metadata": {
        "id": "9T4offTR4Dkt"
      },
      "execution_count": null,
      "outputs": []
    },
    {
      "cell_type": "code",
      "source": [
        "print(result_vegetable)"
      ],
      "metadata": {
        "colab": {
          "base_uri": "https://localhost:8080/"
        },
        "id": "A6zGfGw7iz4V",
        "outputId": "8afcbd0b-602b-42b2-8039-3ef6668801a8"
      },
      "execution_count": 19,
      "outputs": [
        {
          "output_type": "stream",
          "name": "stdout",
          "text": [
            "['Tomato', 'Radish', 'Carrot', 'Bitter_Gourd', 'Cauliflower']\n"
          ]
        }
      ]
    },
    {
      "cell_type": "code",
      "source": [
        "# 예측 실행\n",
        "result_vegetable = predict_image('./frige.png', model_2)\n"
      ],
      "metadata": {
        "colab": {
          "base_uri": "https://localhost:8080/"
        },
        "id": "EbQ4-chhyqXz",
        "outputId": "5fa6390e-bd0b-449b-d056-203def10be1a"
      },
      "execution_count": 21,
      "outputs": [
        {
          "output_type": "stream",
          "name": "stdout",
          "text": [
            "1/1 [==============================] - 0s 67ms/step\n",
            "Index: 14, Value: 0.4376803934574127\n",
            "Tomato\n",
            "Index: 13, Value: 0.3843204379081726\n",
            "Radish\n",
            "Index: 7, Value: 0.0908963605761528\n",
            "Carrot\n"
          ]
        }
      ]
    }
  ]
}